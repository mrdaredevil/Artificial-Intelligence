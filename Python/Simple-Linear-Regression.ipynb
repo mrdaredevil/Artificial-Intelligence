{
 "cells": [
  {
   "cell_type": "code",
   "execution_count": null,
   "metadata": {},
   "outputs": [],
   "source": [
    "%%HTML\n",
    "<style>\n",
    ".container { width:100%  } \n",
    "</style>"
   ]
  },
  {
   "cell_type": "markdown",
   "metadata": {},
   "source": [
    "# Simple Linear Regression"
   ]
  },
  {
   "cell_type": "markdown",
   "metadata": {},
   "source": [
    "We need to read our data from a <tt>csv</tt> file.  The module `csv` offers a number of functions for reading and writing a <tt>csv</tt> file."
   ]
  },
  {
   "cell_type": "code",
   "execution_count": null,
   "metadata": {},
   "outputs": [],
   "source": [
    "import csv"
   ]
  },
  {
   "cell_type": "markdown",
   "metadata": {},
   "source": [
    "The data we want to read is contained in the <tt>csv</tt> file `cars.csv`, which is located in the subdirectory `Python`.  In this file, the first column has the *miles per gallon*, while the *engine displacement* is given in the third column.  We convert *miles per gallon* into *km per litre* and *cubic inches* into *litres*."
   ]
  },
  {
   "cell_type": "code",
   "execution_count": null,
   "metadata": {},
   "outputs": [],
   "source": [
    "with open('cars.csv') as cars_file:\n",
    "    reader       = csv.DictReader(cars_file, delimiter=',')\n",
    "    line_count   = 0\n",
    "    kpl          = [] # kilometer per litre\n",
    "    displacement = [] # engine displacement\n",
    "    for row in reader:\n",
    "        if line_count != 0:  # skip header of file\n",
    "            kpl         .append(float(row['mpg']) * 1.60934 / 3.78541)  \n",
    "            displacement.append(float(row['displacement']) * 0.0163871)  \n",
    "        line_count += 1\n",
    "print(f'{line_count} lines read')"
   ]
  },
  {
   "cell_type": "markdown",
   "metadata": {},
   "source": [
    "Now `kpl` is a list of floating point numbers specifying the \n",
    "<em style=\"color:blue;\">fuel efficiency</em>, while the list `displacement` \n",
    "contains the corresponding <em style=\"color:blue;\">engine displacements</em> \n",
    "measured in litres."
   ]
  },
  {
   "cell_type": "code",
   "execution_count": null,
   "metadata": {},
   "outputs": [],
   "source": [
    "kpl[:5]"
   ]
  },
  {
   "cell_type": "code",
   "execution_count": null,
   "metadata": {},
   "outputs": [],
   "source": [
    "displacement[:5]"
   ]
  },
  {
   "cell_type": "markdown",
   "metadata": {},
   "source": [
    "The number of data pairs of the form $\\langle x, y \\rangle$ that we have read is stored in the variable `m`."
   ]
  },
  {
   "cell_type": "code",
   "execution_count": null,
   "metadata": {},
   "outputs": [],
   "source": [
    "m = len(displacement)\n",
    "m"
   ]
  },
  {
   "cell_type": "markdown",
   "metadata": {},
   "source": [
    "In order to be able to plot the <em style=\"color:blue;\">fuel efficiency</em>\n",
    "versus the <em style=\"color:blue;\">engine displacement</em> and  we turn the \n",
    "lists `displacement` and `mpg` into `numpy` arrays.  This is also very usefull in order to compute the coefficients $\\vartheta_0$ and $\\vartheta_1$ later."
   ]
  },
  {
   "cell_type": "code",
   "execution_count": null,
   "metadata": {},
   "outputs": [],
   "source": [
    "import numpy             as np\n",
    "import matplotlib.pyplot as plt\n",
    "import seaborn           as sns"
   ]
  },
  {
   "cell_type": "markdown",
   "metadata": {},
   "source": [
    "Since <em style=\"color:blue;\">kilometres per litre</em> is the **inverse** of the fuel consumption, the vector `Y` is defined as follows:"
   ]
  },
  {
   "cell_type": "code",
   "execution_count": null,
   "metadata": {},
   "outputs": [],
   "source": [
    "X = np.array(displacement)"
   ]
  },
  {
   "cell_type": "code",
   "execution_count": null,
   "metadata": {},
   "outputs": [],
   "source": [
    "Y = np.array([100 / y for y in kpl])"
   ]
  },
  {
   "cell_type": "code",
   "execution_count": null,
   "metadata": {},
   "outputs": [],
   "source": [
    "plt.figure(figsize=(12, 10))\n",
    "sns.set(style='darkgrid')\n",
    "plt.scatter(X, Y, c='k') # 'k' is short for black\n",
    "plt.xlabel('engine displacement in litres')\n",
    "plt.ylabel('litre per 100 km')\n",
    "plt.title('fuel consumption versus engine displacement')"
   ]
  },
  {
   "cell_type": "markdown",
   "metadata": {},
   "source": [
    "We compute the average engine displacement according to the formula:\n",
    "$$ \\bar{\\mathbf{x}} = \\frac{1}{m} \\cdot \\sum\\limits_{i=1}^m x_i $$ "
   ]
  },
  {
   "cell_type": "code",
   "execution_count": null,
   "metadata": {},
   "outputs": [],
   "source": [
    "xMean = np.mean(X)\n",
    "xMean"
   ]
  },
  {
   "cell_type": "markdown",
   "metadata": {},
   "source": [
    "We compute the average fuel consumption according to the formula:\n",
    "$$ \\bar{\\mathbf{y}} = \\frac{1}{m} \\cdot \\sum\\limits_{i=1}^m y_i $$ "
   ]
  },
  {
   "cell_type": "code",
   "execution_count": null,
   "metadata": {},
   "outputs": [],
   "source": [
    "yMean = np.mean(Y)\n",
    "yMean"
   ]
  },
  {
   "cell_type": "markdown",
   "metadata": {},
   "source": [
    "The coefficient $\\vartheta_1$ is computed according to the formula:\n",
    "$$ \\vartheta_1 = \\frac{\\sum\\limits_{i=1}^m \\bigl(x_i - \\bar{\\mathbf{x}}\\bigr) \\cdot \\bigl(y_i - \\bar{\\mathbf{y}}\\bigr)}{\n",
    "                       \\sum\\limits_{i=1}^m \\bigl(x_i - \\bar{\\mathbf{x}}\\bigr)^2}  \n",
    "$$"
   ]
  },
  {
   "cell_type": "code",
   "execution_count": null,
   "metadata": {},
   "outputs": [],
   "source": [
    "ϑ1 = np.sum((X - xMean) * (Y - yMean)) / np.sum((X - xMean) ** 2)\n",
    "ϑ1"
   ]
  },
  {
   "cell_type": "markdown",
   "metadata": {},
   "source": [
    "The coefficient $\\vartheta_0$ is computed according to the formula:\n",
    "$$ \\vartheta_0 = \\bar{\\mathbf{y}} - \\vartheta_1 \\cdot \\bar{\\mathbf{x}} $$ "
   ]
  },
  {
   "cell_type": "code",
   "execution_count": null,
   "metadata": {},
   "outputs": [],
   "source": [
    "ϑ0 = yMean - ϑ1 * xMean\n",
    "ϑ0"
   ]
  },
  {
   "cell_type": "markdown",
   "metadata": {},
   "source": [
    "Let us plot the line $y(x) = ϑ0 + ϑ1 \\cdot x$ together with our data:"
   ]
  },
  {
   "cell_type": "code",
   "execution_count": null,
   "metadata": {},
   "outputs": [],
   "source": [
    "xMax = max(X) + 0.2\n",
    "plt.figure(figsize=(12, 10))\n",
    "sns.set(style='darkgrid')\n",
    "plt.scatter(X, Y, c='k')\n",
    "plt.plot([0, xMax], [ϑ0, ϑ0 + ϑ1 * xMax], c='r')\n",
    "plt.xlabel('engine displacement in cubic inches')\n",
    "plt.ylabel('fuel consumption in litres per 100 km')\n",
    "plt.title('Fuel Consumption versus Engine Displacement')"
   ]
  },
  {
   "cell_type": "markdown",
   "metadata": {},
   "source": [
    "We see there is quite a bit of variation and apparently the engine displacement explains only a part of the fuel consumption.  In order compute the coefficient of determination, i.e. the statistics $R^2$, we first compute the *total sum of squares* `TSS`according to the following formula:\n",
    "$$ \\mathtt{TSS} := \\sum\\limits_{i=1}^m \\bigl(y_i - \\bar{\\mathbf{y}}\\bigr)^2 $$"
   ]
  },
  {
   "cell_type": "code",
   "execution_count": null,
   "metadata": {},
   "outputs": [],
   "source": [
    "TSS = np.sum((Y - yMean) ** 2)\n",
    "TSS"
   ]
  },
  {
   "cell_type": "markdown",
   "metadata": {},
   "source": [
    "Next, we compute the *residual sum of squares* `RSS` as follows:\n",
    "$$ \\mathtt{RSS} := \\sum\\limits_{i=1}^m \\bigl(\\vartheta_1 \\cdot x_i + \\vartheta_0 - y_i\\bigr)^2 $$\n",
    "    "
   ]
  },
  {
   "cell_type": "code",
   "execution_count": null,
   "metadata": {},
   "outputs": [],
   "source": [
    "RSS = np.sum((ϑ1 * X + ϑ0 - Y) ** 2)\n",
    "RSS"
   ]
  },
  {
   "cell_type": "markdown",
   "metadata": {},
   "source": [
    "Now $R^2$ is calculated via the formula:\n",
    "$$ R^2 = 1 - \\frac{\\mathtt{RSS}}{\\mathtt{TSS}}$$"
   ]
  },
  {
   "cell_type": "code",
   "execution_count": null,
   "metadata": {},
   "outputs": [],
   "source": [
    "R2 = 1 - RSS/TSS\n",
    "R2"
   ]
  },
  {
   "cell_type": "markdown",
   "metadata": {},
   "source": [
    "It seems that about $75\\%$ of the fuel consumption is explained by the engine displacement.  We can get a better model of the fuel consumption if we use more variables for explaining the fuel consumption.  For example, the weight of a car is also responsible for its fuel consumption."
   ]
  },
  {
   "cell_type": "code",
   "execution_count": null,
   "metadata": {},
   "outputs": [],
   "source": []
  }
 ],
 "metadata": {
  "kernelspec": {
   "display_name": "Python 3",
   "language": "python",
   "name": "python3"
  },
  "language_info": {
   "codemirror_mode": {
    "name": "ipython",
    "version": 3
   },
   "file_extension": ".py",
   "mimetype": "text/x-python",
   "name": "python",
   "nbconvert_exporter": "python",
   "pygments_lexer": "ipython3",
   "version": "3.7.6"
  },
  "toc": {
   "base_numbering": 1,
   "nav_menu": {},
   "number_sections": true,
   "sideBar": true,
   "skip_h1_title": false,
   "title_cell": "Table of Contents",
   "title_sidebar": "Contents",
   "toc_cell": false,
   "toc_position": {},
   "toc_section_display": true,
   "toc_window_display": false
  },
  "varInspector": {
   "cols": {
    "lenName": 16,
    "lenType": 16,
    "lenVar": 40
   },
   "kernels_config": {
    "python": {
     "delete_cmd_postfix": "",
     "delete_cmd_prefix": "del ",
     "library": "var_list.py",
     "varRefreshCmd": "print(var_dic_list())"
    },
    "r": {
     "delete_cmd_postfix": ") ",
     "delete_cmd_prefix": "rm(",
     "library": "var_list.r",
     "varRefreshCmd": "cat(var_dic_list()) "
    }
   },
   "types_to_exclude": [
    "module",
    "function",
    "builtin_function_or_method",
    "instance",
    "_Feature"
   ],
   "window_display": false
  }
 },
 "nbformat": 4,
 "nbformat_minor": 2
}
