{
 "cells": [
  {
   "cell_type": "code",
   "execution_count": null,
   "metadata": {},
   "outputs": [],
   "source": [
    "%%HTML\n",
    "<style>\n",
    ".container { width:100% }\n",
    "</style>"
   ]
  },
  {
   "cell_type": "markdown",
   "metadata": {},
   "source": [
    "# Alpha-Beta Pruning with proper Memoization"
   ]
  },
  {
   "cell_type": "markdown",
   "metadata": {},
   "source": [
    "The global variable `Cache` is used as a cache for the function `value`defined later."
   ]
  },
  {
   "cell_type": "code",
   "execution_count": null,
   "metadata": {},
   "outputs": [],
   "source": [
    "Cache = {}"
   ]
  },
  {
   "cell_type": "markdown",
   "metadata": {},
   "source": [
    "In order to have some variation in our game, we use random numbers to choose between optimal moves."
   ]
  },
  {
   "cell_type": "code",
   "execution_count": null,
   "metadata": {},
   "outputs": [],
   "source": [
    "import random\n",
    "random.seed(0)"
   ]
  },
  {
   "cell_type": "markdown",
   "metadata": {},
   "source": [
    "Given a player `p`, the function `other(p)` computes the opponent of `p`.  This assumes that there are only two players and the set of all players is stored in the global variable `Players`."
   ]
  },
  {
   "cell_type": "code",
   "execution_count": null,
   "metadata": {},
   "outputs": [],
   "source": [
    "def other(p):\n",
    "    return [o for o in Players if o != p][0]"
   ]
  },
  {
   "cell_type": "markdown",
   "metadata": {},
   "source": [
    "The function `value` takes four arguments:\n",
    "- `State` is the current state of the game,\n",
    "- `player` is a player,\n",
    "- `alpha` is the worst result that can happen to `player`,\n",
    "- `beta` is the best result that can happen to `player`.\n",
    "\n",
    "The function `value` returns the *value* that the given `State` has for `player` if both players play optimal game.  This values is an element from the set $\\{-1, 0, 1\\}$.  \n",
    "- If `player` can force a win, the return value is `1`.\n",
    "- If `player` can at best force a draw, the return value is `0`.\n",
    "- If `player` might loose even when playing optimal, the return value is `-1`.\n",
    "\n",
    "For reasons of efficiency, this function is *memoized*."
   ]
  },
  {
   "cell_type": "code",
   "execution_count": null,
   "metadata": {},
   "outputs": [],
   "source": [
    "def value(State, player, alpha=-1, beta=1):\n",
    "    global Cache\n",
    "    if State in Cache:\n",
    "        val, a, b = Cache[State]\n",
    "        if a <= alpha and beta <= b:\n",
    "            return val\n",
    "        else:\n",
    "            alpha = min(alpha, a)\n",
    "            beta  = max(beta , b)\n",
    "            val   = alphaBeta(State, player, alpha, beta)\n",
    "            Cache[State] = val, alpha, beta\n",
    "            return val\n",
    "    else:\n",
    "        val = alphaBeta(State, player, alpha, beta)\n",
    "        Cache[State] = val, alpha, beta\n",
    "        return val"
   ]
  },
  {
   "cell_type": "code",
   "execution_count": null,
   "metadata": {},
   "outputs": [],
   "source": [
    "def alphaBeta(State, player, alpha, beta):\n",
    "    if finished(State):\n",
    "        return utility(State, player)\n",
    "    val = alpha\n",
    "    for ns in next_states(State, player):\n",
    "        val = max(val, -value(ns, other(player), -beta, -alpha))\n",
    "        if val >= beta:\n",
    "            return val\n",
    "        alpha = max(val, alpha)\n",
    "    return val"
   ]
  },
  {
   "cell_type": "markdown",
   "metadata": {},
   "source": [
    "The function `best_move` takes two arguments:\n",
    "- `State` is the current state of the game,\n",
    "- `player` is a player.\n",
    "\n",
    "The function `best_move` returns a pair of the form $(v, s)$ where $s$ is a state and $v$ is the value of this state.  The state $s$ is a state that is reached from `State` if `player` makes one of her optimal moves.  In order to have some variation in the game, the function randomly chooses any of the optimal moves."
   ]
  },
  {
   "cell_type": "code",
   "execution_count": null,
   "metadata": {},
   "outputs": [],
   "source": [
    "def best_move(State, player):\n",
    "    NS        = next_states(State, player)\n",
    "    bestVal   = value(State, player)\n",
    "    BestState = random.choice([s for s in NS if -value(s, other(player)) == bestVal])\n",
    "    return bestVal, BestState"
   ]
  },
  {
   "cell_type": "markdown",
   "metadata": {},
   "source": [
    "The next line is needed because we need the function `IPython.display.clear_output` to clear the output in a cell."
   ]
  },
  {
   "cell_type": "code",
   "execution_count": null,
   "metadata": {},
   "outputs": [],
   "source": [
    "import IPython.display "
   ]
  },
  {
   "cell_type": "markdown",
   "metadata": {},
   "source": [
    "The function `play_game` plays on the given `canvas`.  The game played is specified indirectly by specifying the following:\n",
    "- `Start` is a global variable defining the start state of the game.\n",
    "- `next_states` is a function such that $\\texttt{next_states}(s, p)$ computes the set of all possible states that can be reached from state $s$ if player $p$ is next to move.\n",
    "- `finished` is a function such that $\\texttt{finished}(s)$ is true for a state $s$ if the game is over in state $s$.\n",
    "- `utility` is a function such that $\\texttt{utility}(s, p)$ returns either `-1`, `0`, or `1` in the *terminal state* $s$.  We have that\n",
    "  - $\\texttt{utility}(s, p)= -1$ iff the game is lost for player $p$ in state $s$, \n",
    "  - $\\texttt{utility}(s, p)=  0$ iff the game is drawn, and \n",
    "  - $\\texttt{utility}(s, p)=  1$ iff the game is won for player $p$ in state $s$."
   ]
  },
  {
   "cell_type": "code",
   "execution_count": null,
   "metadata": {},
   "outputs": [],
   "source": [
    "def play_game(canvas):\n",
    "    State = Start\n",
    "    while (True):\n",
    "        firstPlayer = Players[0]\n",
    "        val, State  = best_move(State, firstPlayer);\n",
    "        draw(State, canvas, f'For me, the game has the value {val}.')\n",
    "        if finished(State):\n",
    "            final_msg(State)\n",
    "            break\n",
    "        IPython.display.clear_output(wait=True)\n",
    "        State = get_move(State)\n",
    "        if finished(State):\n",
    "            draw(State, canvas, '')\n",
    "            IPython.display.clear_output(wait=True)\n",
    "            final_msg(State)\n",
    "            break"
   ]
  },
  {
   "cell_type": "code",
   "execution_count": null,
   "metadata": {},
   "outputs": [],
   "source": [
    "%run Tic-Tac-Toe.ipynb"
   ]
  },
  {
   "cell_type": "markdown",
   "metadata": {},
   "source": [
    "With memoization, computing the value of the start state takes 95 ms.  Without memoization, it takes 5 seconds."
   ]
  },
  {
   "cell_type": "code",
   "execution_count": null,
   "metadata": {},
   "outputs": [],
   "source": [
    "%%time\n",
    "val = value(Start, 'X')"
   ]
  },
  {
   "cell_type": "markdown",
   "metadata": {},
   "source": [
    "We check how many different states are stored in the `Cache`.  Without alpha-beta pruning, we had to inspect 5478 different states."
   ]
  },
  {
   "cell_type": "code",
   "execution_count": null,
   "metadata": {},
   "outputs": [],
   "source": [
    "len(Cache)"
   ]
  },
  {
   "cell_type": "markdown",
   "metadata": {},
   "source": [
    "Let's draw the board."
   ]
  },
  {
   "cell_type": "code",
   "execution_count": null,
   "metadata": {},
   "outputs": [],
   "source": [
    "canvas = create_canvas(Start)\n",
    "draw(Start, canvas, f'Current value of game for \"X\": {val}')"
   ]
  },
  {
   "cell_type": "markdown",
   "metadata": {},
   "source": [
    "Now its time to play.  In the input window that will pop up later, enter your move in the format \"row,col\"  with no space between row and column."
   ]
  },
  {
   "cell_type": "code",
   "execution_count": null,
   "metadata": {
    "scrolled": false
   },
   "outputs": [],
   "source": [
    "play_game(canvas)"
   ]
  },
  {
   "cell_type": "code",
   "execution_count": null,
   "metadata": {},
   "outputs": [],
   "source": []
  }
 ],
 "metadata": {
  "kernelspec": {
   "display_name": "Python 3",
   "language": "python",
   "name": "python3"
  },
  "language_info": {
   "codemirror_mode": {
    "name": "ipython",
    "version": 3
   },
   "file_extension": ".py",
   "mimetype": "text/x-python",
   "name": "python",
   "nbconvert_exporter": "python",
   "pygments_lexer": "ipython3",
   "version": "3.7.6"
  },
  "toc": {
   "base_numbering": 1,
   "nav_menu": {},
   "number_sections": true,
   "sideBar": true,
   "skip_h1_title": false,
   "title_cell": "Table of Contents",
   "title_sidebar": "Contents",
   "toc_cell": false,
   "toc_position": {},
   "toc_section_display": true,
   "toc_window_display": false
  },
  "varInspector": {
   "cols": {
    "lenName": 16,
    "lenType": 16,
    "lenVar": 40
   },
   "kernels_config": {
    "python": {
     "delete_cmd_postfix": "",
     "delete_cmd_prefix": "del ",
     "library": "var_list.py",
     "varRefreshCmd": "print(var_dic_list())"
    },
    "r": {
     "delete_cmd_postfix": ") ",
     "delete_cmd_prefix": "rm(",
     "library": "var_list.r",
     "varRefreshCmd": "cat(var_dic_list()) "
    }
   },
   "types_to_exclude": [
    "module",
    "function",
    "builtin_function_or_method",
    "instance",
    "_Feature"
   ],
   "window_display": false
  }
 },
 "nbformat": 4,
 "nbformat_minor": 2
}
